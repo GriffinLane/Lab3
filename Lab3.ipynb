{
 "cells": [
  {
   "cell_type": "markdown",
   "metadata": {},
   "source": [
    "## Business Understanding 1<br>\n",
    "<p>COLLABORATORS:  Griffin Lane, Ruhaab Markas, Tommy Pompo</p>\n",
    "<div class=\"alert alert-warning\">\n",
    "<b>Assignment: </b>Describe the purpose of the data set you selected (i.e., why was this data collected in the first place?). How will you measure the effectiveness of a good algorithm? Why does your chosen validation method make sense for this specific dataset and the stakeholders needs?<br><br>\n",
    "</div>\n",
    "<p class=\"lead\">We have been hired by <em>Fungi Perfecti</em>,<em> Paul Stamet's Colorado branch</em>, to use publicly available data to determine areas where certain ectomycorrhizal fungi are likely to be present so they can retreive large amounts for study.  Ectomychorrizal fungi penetrate the root's epidermal and cortical layers and exchange nutrients that the roots would otherwise have trouble obtaining.  This intergrown lattice network of hyphae growing into the root is known as a Hartig Net. Mychorrhizal fungi are useful for reforrestation, gardening, and even the commercial production of produce. Since these specific ectomychorhizal fungi can only be found near Douglas-Firs and Ponderosa Pines, we are able to use the forest cover dataset to identify ares that are likely to meet the required growing conditions for this beneficial fungi to grow in the state of Colorado. This <a href=\"https://jupyter.org/\">Jupyter notebook</a> will serve as a project document that will detail our process, assumptions, and results. </p>\n",
    "\n",
    "\n",
    "<img src=\"http://drive.google.com/uc?export=view&id=1yLEdXwgkQMMHXJNhpQM6wftYf20XvRaA\"/>"
   ]
  },
  {
   "cell_type": "markdown",
   "metadata": {},
   "source": [
    "> <p>Above is a small example of the benefits of mycorrhizal fungi.  You can see the the pot on the left has no symbiotic relationship with a mychorrhizal fungus and is having trouble obtaining all the necessary water and nutrients to grow healthily.  The plant in the pot on the right is lush and healthy and clearly benefitting from it's relationship with the mychorrhizal fungi.  This is why the researchers wish to study the plethora of ectomycorrhizal fungi found around douglas firs and ponderosa pines; they are searching for new, robust species that can be used commercially as well as for reforrestation.  To clarify, ectomychorrhizal fungus is a subclass of mycorrhizal fungus.</p>"
   ]
  },
  {
   "cell_type": "code",
   "execution_count": 1,
   "metadata": {
    "collapsed": false
   },
   "outputs": [],
   "source": [
    "%matplotlib inline\n",
    "import pandas as pd\n",
    "import seaborn as sns\n",
    "import matplotlib.pyplot as plt\n",
    "\n",
    "plt.style.use(['seaborn-dark-palette'])\n",
    "\n",
    "#Import dataset\n",
    "df = pd.read_csv(\"covtype.csv\")"
   ]
  },
  {
   "cell_type": "code",
   "execution_count": 2,
   "metadata": {
    "collapsed": false
   },
   "outputs": [
    {
     "data": {
      "text/plain": [
       "Index(['Elevation', 'Aspect', 'Slope', 'Horizontal_Distance_To_Hydrology',\n",
       "       'Vertical_Distance_To_Hydrology', 'Horizontal_Distance_To_Roadways',\n",
       "       'Hillshade_9am', 'Hillshade_Noon', 'Hillshade_3pm',\n",
       "       'Horizontal_Distance_To_Fire_Points', 'Wilderness_Area1',\n",
       "       'Wilderness_Area2', 'Wilderness_Area3', 'Wilderness_Area4',\n",
       "       'Soil_Type1', 'Soil_Type2', 'Soil_Type3', 'Soil_Type4', 'Soil_Type5',\n",
       "       'Soil_Type6', 'Soil_Type7', 'Soil_Type8', 'Soil_Type9', 'Soil_Type10',\n",
       "       'Soil_Type11', 'Soil_Type12', 'Soil_Type13', 'Soil_Type14',\n",
       "       'Soil_Type15', 'Soil_Type16', 'Soil_Type17', 'Soil_Type18',\n",
       "       'Soil_Type19', 'Soil_Type20', 'Soil_Type21', 'Soil_Type22',\n",
       "       'Soil_Type23', 'Soil_Type24', 'Soil_Type25', 'Soil_Type26',\n",
       "       'Soil_Type27', 'Soil_Type28', 'Soil_Type29', 'Soil_Type30',\n",
       "       'Soil_Type31', 'Soil_Type32', 'Soil_Type33', 'Soil_Type34',\n",
       "       'Soil_Type35', 'Soil_Type36', 'Soil_Type37', 'Soil_Type38',\n",
       "       'Soil_Type39', 'Soil_Type40', 'Cover_Type'],\n",
       "      dtype='object')"
      ]
     },
     "execution_count": 2,
     "metadata": {},
     "output_type": "execute_result"
    }
   ],
   "source": [
    "#View column names\n",
    "df.columns"
   ]
  },
  {
   "cell_type": "markdown",
   "metadata": {},
   "source": [
    "# Forest Covertype data\n",
    "\n",
    "\n",
    "### Relevant Information Paragraph:\n",
    "\n",
    "\tPredicting forest cover type from cartographic variables only\n",
    "\t(no remotely sensed data).  The actual forest cover type for\n",
    "\ta given observation (30 x 30 meter cell) was determined from\n",
    "\tUS Forest Service (USFS) Region 2 Resource Information System \n",
    "\t(RIS) data.  Independent variables were derived from data\n",
    "\toriginally obtained from US Geological Survey (USGS) and\n",
    "\tUSFS data.  Data is in raw form (not scaled) and contains\n",
    "\tbinary (0 or 1) columns of data for qualitative independent\n",
    "\tvariables (wilderness areas and soil types).\n",
    "\n",
    "\tThis study area includes four wilderness areas located in the\n",
    "\tRoosevelt National Forest of northern Colorado.  These areas\n",
    "\trepresent forests with minimal human-caused disturbances,\n",
    "\tso that existing forest cover types are more a result of \n",
    "\tecological processes rather than forest management practices.\n",
    "\n",
    "\tSome background information for these four wilderness areas:  \n",
    "\tNeota (area 2) probably has the highest mean elevational value of \n",
    "\tthe 4 wilderness areas. Rawah (area 1) and Comanche Peak (area 3) \n",
    "\twould have a lower mean elevational value, while Cache la Poudre \n",
    "\t(area 4) would have the lowest mean elevational value. \n",
    "\n",
    "\tAs for primary major tree species in these areas, Neota would have \n",
    "\tspruce/fir (type 1), while Rawah and Comanche Peak would probably\n",
    "\thave lodgepole pine (type 2) as their primary species, followed by \n",
    "\tspruce/fir and aspen (type 5). Cache la Poudre would tend to have \n",
    "\tPonderosa pine (type 3), Douglas-fir (type 6), and \n",
    "\tcottonwood/willow (type 4).  \n",
    "\n",
    "\tThe Rawah and Comanche Peak areas would tend to be more typical of \n",
    "\tthe overall dataset than either the Neota or Cache la Poudre, due \n",
    "\tto their assortment of tree species and range of predictive \n",
    "\tvariable values (elevation, etc.)  Cache la Poudre would probably \n",
    "\tbe more unique than the others, due to its relatively low \n",
    "\televation range and species composition. \n",
    "\n",
    "\n",
    "### Attribute information:\n",
    "\n",
    "Given is the attribute name, attribute type, the measurement unit and\n",
    "a brief description.  The forest cover type is the classification \n",
    "problem.  The order of this listing corresponds to the order of \n",
    "numerals along the rows of the database.\n",
    "<pre style=\"font-size: 8;word-wrap: break-word;\">\n",
    "\n",
    "Name                                   Data Type    Measurement                       Description\n",
    "\n",
    "Elevation                            quantitative   meters                       Elevation in meters\n",
    "Aspect                               quantitative   azimuth                      Aspect in degrees azimuth\n",
    "Slope                                quantitative   degrees                      Slope in degrees\n",
    "Horizontal_Distance_To_Hydrology     quantitative   meters                       Horz Dist to nearest \n",
    "                                                                                 surface water features\n",
    "Vertical_Distance_To_Hydrology       quantitative   meters                       Vert Dist to nearest\n",
    "                                                                                 surface water features\n",
    "Horizontal_Distance_To_Roadways      quantitative   meters                       Horz Dist to nearest roadway\n",
    "Hillshade_9am                        quantitative   0 to 255 index               Hillshade index at 9am, summer solstice\n",
    "Hillshade_Noon                       quantitative   0 to 255 index               Hillshade index at noon, summer soltice\n",
    "Hillshade_3pm                        quantitative   0 to 255 index               Hillshade index at 3pm, summer solstice\n",
    "Horizontal_Distance_To_Fire_Points   quantitative   meters                       Horz Dist to nearest wildfire\n",
    "                                                                                 ignition points\n",
    "Wilderness_Area (4 binary columns)   qualitative    0 (absence) or 1 (presence)  Wilderness area designation\n",
    "Soil_Type (40 binary columns)        qualitative    0 (absence) or 1 (presence)  Soil Type designation\n",
    "Cover_Type (7 types)                 integer        1 to 7                       Forest Cover Type designation\n",
    "</pre>"
   ]
  },
  {
   "cell_type": "markdown",
   "metadata": {},
   "source": [
    "<pre style=\"word-wrap: break-word; white-space: pre-wrap;\">\n",
    "Code Designations:\n",
    "\n",
    "    Wilderness Areas:   1 -- Rawah Wilderness Area\n",
    "                        2 -- Neota Wilderness Area\n",
    "                        3 -- Comanche Peak Wilderness Area\n",
    "                        4 -- Cache la Poudre Wilderness Area\n",
    "\n",
    "Soil Types:             1 to 40 : based on the USFS Ecological\n",
    "                        Landtype Units (ELUs) for this study area:\n",
    "\n",
    "  Study Code USFS ELU Code\t\t\tDescription\n",
    "\t 1\t   2702\t\tCathedral family - Rock outcrop complex, extremely stony.\n",
    "\t 2\t   2703\t\tVanet - Ratake families complex, very stony.\n",
    "\t 3\t   2704\t\tHaploborolis - Rock outcrop complex, rubbly.\n",
    "\t 4\t   2705\t\tRatake family - Rock outcrop complex, rubbly.\n",
    "\t 5\t   2706\t\tVanet family - Rock outcrop complex complex, rubbly.\n",
    "\t 6\t   2717\t\tVanet - Wetmore families - Rock outcrop complex, stony.\n",
    "\t 7\t   3501\t\tGothic family.\n",
    "\t 8\t   3502\t\tSupervisor - Limber families complex.\n",
    "\t 9\t   4201\t\tTroutville family, very stony.\n",
    "\t10\t   4703\t\tBullwark - Catamount families - Rock outcrop complex, rubbly.\n",
    "\t11\t   4704\t\tBullwark - Catamount families - Rock land complex, rubbly.\n",
    "\t12\t   4744\t\tLegault family - Rock land complex, stony.\n",
    "\t13\t   4758\t\tCatamount family - Rock land - Bullwark family complex, rubbly.\n",
    "\t14\t   5101\t\tPachic Argiborolis - Aquolis complex.\n",
    "\t15\t   5151\t\tunspecified in the USFS Soil and ELU Survey.\n",
    "\t16\t   6101\t\tCryaquolis - Cryoborolis complex.\n",
    "\t17\t   6102\t\tGateview family - Cryaquolis complex.\n",
    "\t18\t   6731\t\tRogert family, very stony.\n",
    "\t19\t   7101\t\tTypic Cryaquolis - Borohemists complex.\n",
    "\t20\t   7102\t\tTypic Cryaquepts - Typic Cryaquolls complex.\n",
    "\t21\t   7103\t\tTypic Cryaquolls - Leighcan family, till substratum complex.\n",
    "\t22\t   7201\t\tLeighcan family, till substratum, extremely bouldery.\n",
    "\t23\t   7202\t\tLeighcan family, till substratum - Typic Cryaquolls complex.\n",
    "\t24\t   7700\t\tLeighcan family, extremely stony.\n",
    "\t25\t   7701\t\tLeighcan family, warm, extremely stony.\n",
    "\t26\t   7702\t\tGranile - Catamount families complex, very stony.\n",
    "\t27\t   7709\t\tLeighcan family, warm - Rock outcrop complex, extremely stony.\n",
    "\t28\t   7710\t\tLeighcan family - Rock outcrop complex, extremely stony.\n",
    "\t29\t   7745\t\tComo - Legault families complex, extremely stony.\n",
    "\t30\t   7746\t\tComo family - Rock land - Legault family complex, extremely stony.\n",
    "\t31\t   7755\t\tLeighcan - Catamount families complex, extremely stony.\n",
    "\t32\t   7756\t\tCatamount family - Rock outcrop - Leighcan family complex, extremely stony.\n",
    "\t33\t   7757\t\tLeighcan - Catamount families - Rock outcrop complex, extremely stony.\n",
    "\t34\t   7790\t\tCryorthents - Rock land complex, extremely stony.\n",
    "\t35\t   8703\t\tCryumbrepts - Rock outcrop - Cryaquepts complex.\n",
    "\t36\t   8707\t\tBross family - Rock land - Cryumbrepts complex, extremely stony.\n",
    "\t37\t   8708\t\tRock outcrop - Cryumbrepts - Cryorthents complex, extremely stony.\n",
    "\t38\t   8771\t\tLeighcan - Moran families - Cryaquolls complex, extremely stony.\n",
    "\t39\t   8772\t\tMoran family - Cryorthents - Leighcan family complex, extremely stony.\n",
    "\t40\t   8776\t\tMoran family - Cryorthents - Rock land complex, extremely stony.\n",
    "\n",
    "        Note:   First digit:  climatic zone             Second digit:  geologic zones\n",
    "                1.  lower montane dry                   1.  alluvium\n",
    "                2.  lower montane                       2.  glacial\n",
    "                3.  montane dry                         3.  shale\n",
    "                4.  montane                             4.  sandstone\n",
    "                5.  montane dry and montane             5.  mixed sedimentary\n",
    "                6.  montane and subalpine               6.  unspecified in the USFS ELU Survey\n",
    "                7.  subalpine                           7.  igneous and metamorphic\n",
    "                8.  alpine                              8.  volcanic\n",
    "\n",
    "        The third and fourth ELU digits are unique to the mapping unit \n",
    "        and have no special meaning to the climatic or geologic zones.\n",
    "\n",
    "    Forest Cover Type Classes:\t1 -- Spruce/Fir\n",
    "                                2 -- Lodgepole Pine\n",
    "                                3 -- Ponderosa Pine\n",
    "                                4 -- Cottonwood/Willow\n",
    "                                5 -- Aspen\n",
    "                                6 -- Douglas-fir\n",
    "                                7 -- Krummholz\n",
    "\n",
    "======================================================================================\n",
    "Relevant sources can be found at:  \n",
    "https://archive.ics.uci.edu/ml/machine-learning-databases/covtype/covtype.info\n",
    "======================================================================================\n",
    "</pre>"
   ]
  },
  {
   "cell_type": "code",
   "execution_count": 10,
   "metadata": {
    "collapsed": false
   },
   "outputs": [
    {
     "name": "stdout",
     "output_type": "stream",
     "text": [
      "<class 'pandas.core.frame.DataFrame'>\n",
      "RangeIndex: 581012 entries, 0 to 581011\n",
      "Data columns (total 55 columns):\n",
      "Elevation                             581012 non-null int64\n",
      "Aspect                                581012 non-null int64\n",
      "Slope                                 581012 non-null int64\n",
      "Horizontal_Distance_To_Hydrology      581012 non-null int64\n",
      "Vertical_Distance_To_Hydrology        581012 non-null int64\n",
      "Horizontal_Distance_To_Roadways       581012 non-null int64\n",
      "Hillshade_9am                         581012 non-null int64\n",
      "Hillshade_Noon                        581012 non-null int64\n",
      "Hillshade_3pm                         581012 non-null int64\n",
      "Horizontal_Distance_To_Fire_Points    581012 non-null int64\n",
      "Wilderness_Area1                      581012 non-null int64\n",
      "Wilderness_Area2                      581012 non-null int64\n",
      "Wilderness_Area3                      581012 non-null int64\n",
      "Wilderness_Area4                      581012 non-null int64\n",
      "Soil_Type1                            581012 non-null int64\n",
      "Soil_Type2                            581012 non-null int64\n",
      "Soil_Type3                            581012 non-null int64\n",
      "Soil_Type4                            581012 non-null int64\n",
      "Soil_Type5                            581012 non-null int64\n",
      "Soil_Type6                            581012 non-null int64\n",
      "Soil_Type7                            581012 non-null int64\n",
      "Soil_Type8                            581012 non-null int64\n",
      "Soil_Type9                            581012 non-null int64\n",
      "Soil_Type10                           581012 non-null int64\n",
      "Soil_Type11                           581012 non-null int64\n",
      "Soil_Type12                           581012 non-null int64\n",
      "Soil_Type13                           581012 non-null int64\n",
      "Soil_Type14                           581012 non-null int64\n",
      "Soil_Type15                           581012 non-null int64\n",
      "Soil_Type16                           581012 non-null int64\n",
      "Soil_Type17                           581012 non-null int64\n",
      "Soil_Type18                           581012 non-null int64\n",
      "Soil_Type19                           581012 non-null int64\n",
      "Soil_Type20                           581012 non-null int64\n",
      "Soil_Type21                           581012 non-null int64\n",
      "Soil_Type22                           581012 non-null int64\n",
      "Soil_Type23                           581012 non-null int64\n",
      "Soil_Type24                           581012 non-null int64\n",
      "Soil_Type25                           581012 non-null int64\n",
      "Soil_Type26                           581012 non-null int64\n",
      "Soil_Type27                           581012 non-null int64\n",
      "Soil_Type28                           581012 non-null int64\n",
      "Soil_Type29                           581012 non-null int64\n",
      "Soil_Type30                           581012 non-null int64\n",
      "Soil_Type31                           581012 non-null int64\n",
      "Soil_Type32                           581012 non-null int64\n",
      "Soil_Type33                           581012 non-null int64\n",
      "Soil_Type34                           581012 non-null int64\n",
      "Soil_Type35                           581012 non-null int64\n",
      "Soil_Type36                           581012 non-null int64\n",
      "Soil_Type37                           581012 non-null int64\n",
      "Soil_Type38                           581012 non-null int64\n",
      "Soil_Type39                           581012 non-null int64\n",
      "Soil_Type40                           581012 non-null int64\n",
      "Cover_Type                            581012 non-null int64\n",
      "dtypes: int64(55)\n",
      "memory usage: 243.8 MB\n"
     ]
    }
   ],
   "source": [
    "df.info(verbose=True)"
   ]
  },
  {
   "cell_type": "code",
   "execution_count": 9,
   "metadata": {
    "collapsed": false
   },
   "outputs": [
    {
     "ename": "TypeError",
     "evalue": "unsupported operand type(s) for +: 'int' and 'str'",
     "output_type": "error",
     "traceback": [
      "\u001b[0;31m---------------------------------------------------------------------------\u001b[0m",
      "\u001b[0;31mTypeError\u001b[0m                                 Traceback (most recent call last)",
      "\u001b[0;32m<ipython-input-9-0661bd533354>\u001b[0m in \u001b[0;36m<module>\u001b[0;34m()\u001b[0m\n\u001b[0;32m----> 1\u001b[0;31m \u001b[0msum\u001b[0m\u001b[1;33m(\u001b[0m\u001b[0mdf\u001b[0m\u001b[1;33m.\u001b[0m\u001b[0misnull\u001b[0m\u001b[1;33m(\u001b[0m\u001b[1;33m)\u001b[0m \u001b[1;33m==\u001b[0m \u001b[1;32mTrue\u001b[0m\u001b[1;33m)\u001b[0m\u001b[1;33m\u001b[0m\u001b[0m\n\u001b[0m",
      "\u001b[0;31mTypeError\u001b[0m: unsupported operand type(s) for +: 'int' and 'str'"
     ]
    }
   ],
   "source": [
    "sum(df.isnull() == True)"
   ]
  },
  {
   "cell_type": "code",
   "execution_count": null,
   "metadata": {
    "collapsed": true
   },
   "outputs": [],
   "source": [
    "Basic Summary Statistics for quantitative variables only"
   ]
  },
  {
   "cell_type": "code",
   "execution_count": null,
   "metadata": {
    "collapsed": true
   },
   "outputs": [],
   "source": [
    "Class distribution"
   ]
  },
  {
   "cell_type": "code",
   "execution_count": 4,
   "metadata": {
    "collapsed": false
   },
   "outputs": [
    {
     "data": {
      "text/plain": [
       "<matplotlib.axes._subplots.AxesSubplot at 0x2a30d4a0588>"
      ]
     },
     "execution_count": 4,
     "metadata": {},
     "output_type": "execute_result"
    },
    {
     "data": {
      "image/png": "[encoded data removed]",
      "text/plain": [
       "<matplotlib.figure.Figure at 0x2a378eec2b0>"
      ]
     },
     "metadata": {},
     "output_type": "display_data"
    }
   ],
   "source": [
    "corr = df.corr()\n",
    "plt.figure(figsize=[15,10])\n",
    "sns.heatmap(corr,annot=False, fmt=\".2\", cmap=\"RdBu\")"
   ]
  },
  {
   "cell_type": "code",
   "execution_count": null,
   "metadata": {
    "collapsed": true
   },
   "outputs": [],
   "source": [
    "from sklearn.model_selection import train_test_split\n",
    "\n",
    "#get y's\n",
    "y = df.y\n",
    "\n",
    "#get all but y, also drop duration as it is not suitable for prediction\n",
    "X = df.drop([\"y\"], axis=1)\n",
    "\n",
    "#quick and dirty one hot encoding, could have used sklearn's as well\n",
    "def OneHot(dataset):\n",
    "    if type(dataset) is pd.Series:\n",
    "        return [0  if (x == \"no\") else 1 for x in df.y]    \n",
    "    else:\n",
    "        cats = dataset.select_dtypes(include=[np.object])\n",
    "        cats_cols = cats.columns\n",
    "\n",
    "    for i in enumerate(cats_cols):\n",
    "        i = i[1]            \n",
    "        one_h = pd.get_dummies(dataset[i])\n",
    "        dataset = dataset.drop(i,axis=1)\n",
    "        dataset[one_h.columns] = one_h        \n",
    "    return dataset\n",
    "\n",
    "X, y = OneHot(X), OneHot(y)\n",
    "\n",
    "\n",
    "\n",
    "### Without External Cross Validation\n",
    "# X_train = X\n",
    "# y_train= pd.Series(y)\n",
    "\n",
    "### With external cross validation\n",
    "X_train, X_test, y_train, y_test = train_test_split(X, y, test_size=0.10, stratify=y, random_state=42)\n",
    "y_train, y_test = pd.Series(y_train), pd.Series(y_test)"
   ]
  },
  {
   "cell_type": "markdown",
   "metadata": {
    "collapsed": true
   },
   "source": [
    "## Data Understanding 1\n",
    "<div class=\"alert alert-warning\">\n",
    "<b>Assignment: </b>Describe the meaning and type of data (scale, values, etc.) for each attribute in the data file. Verify data quality: Are there missing values? Duplicate data? Outliers? Are those mistakes? How do you deal with these problems?\n",
    "<br><br>\n",
    "</div>"
   ]
  },
  {
   "cell_type": "code",
   "execution_count": null,
   "metadata": {
    "collapsed": true
   },
   "outputs": [],
   "source": []
  },
  {
   "cell_type": "code",
   "execution_count": null,
   "metadata": {
    "collapsed": true
   },
   "outputs": [],
   "source": []
  },
  {
   "cell_type": "code",
   "execution_count": null,
   "metadata": {
    "collapsed": true
   },
   "outputs": [],
   "source": []
  },
  {
   "cell_type": "markdown",
   "metadata": {
    "collapsed": true
   },
   "source": [
    "## Data Understanding 2\n",
    "<div class=\"alert alert-warning\">\n",
    "<b>Assignment: </b>Visualize the any important attributes appropriately. Important: Provide an interpretation for any charts or graphs.\n",
    "<br><br>\n",
    "</div>"
   ]
  },
  {
   "cell_type": "code",
   "execution_count": null,
   "metadata": {
    "collapsed": true
   },
   "outputs": [],
   "source": []
  },
  {
   "cell_type": "code",
   "execution_count": null,
   "metadata": {
    "collapsed": true
   },
   "outputs": [],
   "source": []
  },
  {
   "cell_type": "code",
   "execution_count": null,
   "metadata": {
    "collapsed": true
   },
   "outputs": [],
   "source": []
  },
  {
   "cell_type": "markdown",
   "metadata": {
    "collapsed": true
   },
   "source": [
    "## Modeling and Evaluation 1\n",
    "<div class=\"alert alert-warning\">\n",
    "<b>Assignment: </b>Train and adjust parameters\n",
    "\n",
    "<br><br>\n",
    "</div>"
   ]
  },
  {
   "cell_type": "code",
   "execution_count": null,
   "metadata": {
    "collapsed": true
   },
   "outputs": [],
   "source": []
  },
  {
   "cell_type": "code",
   "execution_count": null,
   "metadata": {
    "collapsed": true
   },
   "outputs": [],
   "source": []
  },
  {
   "cell_type": "code",
   "execution_count": null,
   "metadata": {
    "collapsed": true
   },
   "outputs": [],
   "source": []
  },
  {
   "cell_type": "markdown",
   "metadata": {
    "collapsed": true
   },
   "source": [
    "## Modeling and Evaluation 2\n",
    "<div class=\"alert alert-warning\">\n",
    "<b>Assignment: </b>Evaluate and Compare\n",
    "<br><br>\n",
    "</div>"
   ]
  },
  {
   "cell_type": "code",
   "execution_count": null,
   "metadata": {
    "collapsed": true
   },
   "outputs": [],
   "source": []
  },
  {
   "cell_type": "code",
   "execution_count": null,
   "metadata": {
    "collapsed": true
   },
   "outputs": [],
   "source": []
  },
  {
   "cell_type": "code",
   "execution_count": null,
   "metadata": {
    "collapsed": true
   },
   "outputs": [],
   "source": []
  },
  {
   "cell_type": "markdown",
   "metadata": {
    "collapsed": true
   },
   "source": [
    "## Modeling and Evaluation 3\n",
    "<div class=\"alert alert-warning\">\n",
    "<b>Assignment: </b>Visualize Results\n",
    "<br><br>\n",
    "</div>"
   ]
  },
  {
   "cell_type": "code",
   "execution_count": null,
   "metadata": {
    "collapsed": true
   },
   "outputs": [],
   "source": []
  },
  {
   "cell_type": "code",
   "execution_count": null,
   "metadata": {
    "collapsed": true
   },
   "outputs": [],
   "source": []
  },
  {
   "cell_type": "code",
   "execution_count": null,
   "metadata": {
    "collapsed": true
   },
   "outputs": [],
   "source": []
  },
  {
   "cell_type": "markdown",
   "metadata": {
    "collapsed": true
   },
   "source": [
    "## Modeling and Evaluation 4\n",
    "<div class=\"alert alert-warning\">\n",
    "<b>Assignment: </b>Summarize the Ramifications\n",
    "<br><br>\n",
    "</div>"
   ]
  },
  {
   "cell_type": "code",
   "execution_count": null,
   "metadata": {
    "collapsed": true
   },
   "outputs": [],
   "source": []
  },
  {
   "cell_type": "code",
   "execution_count": null,
   "metadata": {
    "collapsed": true
   },
   "outputs": [],
   "source": []
  },
  {
   "cell_type": "code",
   "execution_count": null,
   "metadata": {
    "collapsed": true
   },
   "outputs": [],
   "source": []
  },
  {
   "cell_type": "markdown",
   "metadata": {
    "collapsed": true
   },
   "source": [
    "## Deployment \n",
    "<div class=\"alert alert-warning\">\n",
    "<b>Assignment: </b>Be critical of your performance and tell the reader how you current model might be usable by other parties. Did you achieve your goals? If not, can you reign in the utility of your modeling? How useful is your model for interested parties (i.e., the companies or organizations that might want to use it)? How would your deploy your model for interested parties? What other data should be collected? How often would the model need to be updated, etc.?\n",
    "<br><br>\n",
    "</div>"
   ]
  },
  {
   "cell_type": "code",
   "execution_count": null,
   "metadata": {
    "collapsed": true
   },
   "outputs": [],
   "source": []
  },
  {
   "cell_type": "code",
   "execution_count": null,
   "metadata": {
    "collapsed": true
   },
   "outputs": [],
   "source": []
  },
  {
   "cell_type": "code",
   "execution_count": null,
   "metadata": {
    "collapsed": true
   },
   "outputs": [],
   "source": []
  },
  {
   "cell_type": "markdown",
   "metadata": {
    "collapsed": true
   },
   "source": [
    "\n",
    "## Exceptional Work\n",
    "<div class=\"alert alert-warning\">\n",
    "<b>Assignment: </b>You have free reign to provide additional analyses or combine analyses. Ensemble Method recommended.\n",
    "\n",
    "<br><br>\n",
    "</div>\n"
   ]
  },
  {
   "cell_type": "code",
   "execution_count": null,
   "metadata": {
    "collapsed": true
   },
   "outputs": [],
   "source": []
  },
  {
   "cell_type": "code",
   "execution_count": null,
   "metadata": {
    "collapsed": true
   },
   "outputs": [],
   "source": []
  },
  {
   "cell_type": "code",
   "execution_count": null,
   "metadata": {
    "collapsed": true
   },
   "outputs": [],
   "source": []
  },
  {
   "cell_type": "code",
   "execution_count": null,
   "metadata": {
    "collapsed": true
   },
   "outputs": [],
   "source": []
  },
  {
   "cell_type": "code",
   "execution_count": null,
   "metadata": {
    "collapsed": true
   },
   "outputs": [],
   "source": []
  },
  {
   "cell_type": "code",
   "execution_count": null,
   "metadata": {
    "collapsed": true
   },
   "outputs": [],
   "source": []
  },
  {
   "cell_type": "markdown",
   "metadata": {},
   "source": [
    "Dataset Sources:\n",
    "\n",
    "\t(a) Original owners of database:\n",
    "\t\tRemote Sensing and GIS Program\n",
    "\t\tDepartment of Forest Sciences\n",
    "\t\tCollege of Natural Resources\n",
    "\t\tColorado State University\n",
    "\t\tFort Collins, CO  80523\n",
    "\t\t(contact Jock A. Blackard, jblackard 'at' fs.fed.us\n",
    "\t\t      or Dr. Denis J. Dean, denis.dean 'at' utdallas.edu)\n",
    "\n",
    "\tNOTE:\tReuse of this database is unlimited with retention of \n",
    "\t\tcopyright notice for Jock A. Blackard and Colorado \n",
    "\t\tState University.\n",
    "\n",
    "\t(b) Donors of database:\n",
    "\t\tJock A. Blackard (jblackard 'at' fs.fed.us)\n",
    "\t\tGIS Coordinator\n",
    "\t\tUSFS - Forest Inventory &amp; Analysis\n",
    "\t\tRocky Mountain Research Station\n",
    "\t\t507 25th Street\n",
    "\t\tOgden, UT 84401\n",
    "\n",
    "\t\tDr. Denis J. Dean (denis.dean 'at' utdallas.edu)\n",
    "\t\tProfessor\n",
    "\t\tProgram in Geography and Geospatial Sciences\n",
    "\t\tSchool of Economic, Political and Policy Sciences\n",
    "\t\t800 West Campbell Rd\n",
    "\t\tRichardson, TX  75080-3021 \n",
    "\t\t\n",
    "\t\tDr. Charles W. Anderson (anderson 'at' cs.colostate.edu)\n",
    "\t\tAssociate Professor\n",
    "\t\tDepartment of Computer Science\n",
    "\t\tColorado State University\n",
    "\t\tFort Collins, CO  80523  USA\n",
    "\n",
    "\t(c) Date donated:  August 1998"
   ]
  },
  {
   "cell_type": "code",
   "execution_count": null,
   "metadata": {
    "collapsed": true
   },
   "outputs": [],
   "source": []
  }
 ],
 "metadata": {
  "kernelspec": {
   "display_name": "Python 3",
   "language": "python",
   "name": "python3"
  },
  "language_info": {
   "codemirror_mode": {
    "name": "ipython",
    "version": 3
   },
   "file_extension": ".py",
   "mimetype": "text/x-python",
   "name": "python",
   "nbconvert_exporter": "python",
   "pygments_lexer": "ipython3",
   "version": "3.6.0"
  }
 },
 "nbformat": 4,
 "nbformat_minor": 2
}
